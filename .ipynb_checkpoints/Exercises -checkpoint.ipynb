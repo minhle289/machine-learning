{
 "cells": [
  {
   "cell_type": "markdown",
   "metadata": {},
   "source": [
    "# Exercises\n",
    "\n",
    "### Part 1: Loading Data\n",
    "\n",
    "We've been working with contrived data, but it's time to work with 'real' data. The data we will use will be in CSV format, and we'll know that it'll require minimum wrangling - but there are still things we will need to do. \n",
    "\n",
    "We're going to use the built-in python module csv to read our file. It will take a csv file and return a data structure that contains lists of list. where each list will be an instance of our data. However, those lists will contain strings, and we'll need to convert them to floats, on a column by column basis. \n",
    "\n",
    "There are two data sets on the homework page: the wine quality dataset and the Swedish insurance data set. Download them, and put them in the same directory as this notebook.\n",
    "\n",
    "(a) Read the overview of the csv module at: https://docs.python.org/3.1/library/csv.html\n",
    "\n",
    "Write a function called load_data(filename) that takes a filename (a string), uses the csv reader to read in a file, then iterates through that file one line at a time and appends it to a new list, which is then returned. \n",
    "\n",
    "(b) Call this function on the Swedish auto data set given, and use the returned information to print a nice string. That string should tell us:\n",
    "\n",
    "The name of the data set, the number of instances (that's the number of sublists), and the number of features (the columns in each sublist). \n",
    "\n",
    "(c) Print the first instance contained in the data set.\n",
    "\n",
    "For example, if I were to load the contrived data set given last week from csv I should load the data as:  \n",
    "\n",
    "[['1','1'],['2','3'],['4','3'],['3','2'],['5','5']] \n",
    "\n",
    "and report that there are 5 instances, with 2 features. I should then print:\n",
    "\n",
    "[['1','1']]\n",
    "\n",
    "Yes, at present, using this mechanism, the features will all be strings. We'll correct this later."
   ]
  },
  {
   "cell_type": "code",
   "execution_count": 1,
   "metadata": {},
   "outputs": [
    {
     "name": "stdout",
     "output_type": "stream",
     "text": [
      "Swedish auto data \n",
      " Number of instances: 63 \n",
      " Number of features: 2\n",
      " First instance: ['108', '392.5']\n"
     ]
    }
   ],
   "source": [
    "import csv\n",
    "\n",
    "# Load the data\n",
    "def load_data(filename):\n",
    "    csv_reader = csv.reader(open(filename, newline=''), delimiter=',')\n",
    "    new_list = []\n",
    "    for row in csv_reader:\n",
    "        new_list.append(row)\n",
    "    return new_list\n",
    "\n",
    "# Print nicely\n",
    "data = load_data(\"insurance.csv\")\n",
    "print(\"Swedish auto data \\n\", \"Number of instances:\", len(data), \"\\n\", \"Number of features:\", len(data[0]))\n",
    "print(\" First instance:\", data[0])"
   ]
  },
  {
   "cell_type": "markdown",
   "metadata": {},
   "source": [
    "(c) Now we need to convert the strings to floats. That might not always be true, so we want a way to select certain columns of our data, and turn the values into floats.\n",
    "\n",
    "Write a function called column2Float(dataset,column), that takes a dataset and a column number, and converts the elements in that column to from strings to floats. So if the data set contained:\n",
    "\n",
    "[['1','1'],['2','3'],['4','3'],['3','2'],['5','5']]\n",
    "\n",
    "and I called column2Float(dataset, 0), the dataset should be changed to be:\n",
    "\n",
    "[[1.0,'1'],[2.0,'3'],[4.0,'3'],[3.0,'2'],[5.0,'5']]\n",
    "\n",
    "Note. For memory efficiency, it's ok at this stage to make use of the the pass-by-reference nature of lists - that is, it's ok to make these changes in place, and NOT create or return another list.\n",
    "\n",
    "(d) Call your function string2Float on the swedish auto data set you loaded previously. Use a loop to iterate through each of the columns, changing each into float values.\n",
    "\n",
    "(e) Print the first line of the newly converted data set, to show that the entries are now floats."
   ]
  },
  {
   "cell_type": "code",
   "execution_count": 2,
   "metadata": {},
   "outputs": [
    {
     "name": "stdout",
     "output_type": "stream",
     "text": [
      "First line of new dataset: [108.0, 392.5]\n"
     ]
    }
   ],
   "source": [
    "# Write your converter function here\n",
    "def column2Float(dataset, column):\n",
    "    for row in dataset:\n",
    "        row[column] = float(row[column])\n",
    "\n",
    "# Apply to the loaded Swedish auto data here\n",
    "for i in range(len(data[0])):  \n",
    "    column2Float(data,i)\n",
    "\n",
    "# Print nicely here\n",
    "print(\"First line of new dataset:\", data[0])"
   ]
  },
  {
   "cell_type": "markdown",
   "metadata": {},
   "source": [
    "### Part 2: Applying to real data\n",
    "\n",
    "You probably noticed that the Swedish auto data set you loaded has only 2 features, which correspond to one input variable (x) and one output variable (y). Copy across your code for simple linear regression from last week, and run it on this data. I want to see:\n",
    "\n",
    "(a) A plot of x,y of the Swedish auto data\n",
    "(b) Some nice print out of a baseline of performance (What algorithm should you use?)\n",
    "(c) Some nice print out of the performance of simple linear regression\n",
    "(d) A line plot of the predicted y values made by simple linear regression\n",
    "(e) Some discussion of the results. This will NOT be extensive. Which algorithm (apparently) performs better, the baseline or slr? What do the results MEAN, if anything?\n",
    "\n",
    "You can find minimal information about the Swedish auto insurance data set here:\n",
    "http://college.cengage.com/mathematics/brase/understandable_statistics/7e/students/datasets/slr/frames/slr06.html"
   ]
  },
  {
   "cell_type": "code",
   "execution_count": 3,
   "metadata": {},
   "outputs": [],
   "source": [
    "import matplotlib.pyplot as plt\n",
    "\n",
    "# Write your code for a through d here\n",
    "# ==== Code from last assignment =====\n",
    "def mean(listOfValues):\n",
    "    return sum(listOfValues)/len(listOfValues)\n",
    "\n",
    "def variance(listOfValues, meanValue):\n",
    "    var = 0\n",
    "    for value in listOfValues:\n",
    "        var += (value - meanValue)**2\n",
    "    return var\n",
    "\n",
    "def covariance(listofX, meanOfX, listOfY, meanOfY):\n",
    "    covar = 0\n",
    "    length = len(listofX)\n",
    "    if length != len(listOfY):\n",
    "        print(\"Two lists have different size\")\n",
    "    else:\n",
    "        for i in range(length):\n",
    "            covar += (listofX[i]-meanOfX)*(listOfY[i]-meanOfY)\n",
    "            i = i + 1\n",
    "    return covar\n",
    "\n",
    "def coefficients(dataset):\n",
    "    xVal = [pair[0] for pair in dataset]\n",
    "    yVal = [pair[1] for pair in dataset]\n",
    "    xMean = mean(xVal)\n",
    "    yMean = mean(yVal)\n",
    "    b1 = covariance(xVal, xMean, yVal, yMean)/variance(xVal, xMean)\n",
    "    b0 = yMean - b1*xMean\n",
    "    return [b0, b1]\n",
    "\n",
    "def zeroRR(train, test):\n",
    "    targetList = [instance[len(instance)-1] for instance in train]\n",
    "    targetMean = mean(targetList)\n",
    "    prediction = [targetMean for i in range(len(train))]\n",
    "    return prediction\n",
    "\n",
    "def slr(train, test):\n",
    "    coeff = coefficients(train)\n",
    "    b0 = coeff[0]\n",
    "    b1 = coeff[1]\n",
    "    prediction = [b0 + b1*entry[0] for entry in test]\n",
    "    return prediction\n",
    "        \n",
    "def rmse_eval(actual, predicted):\n",
    "    error = 0.0\n",
    "    length = len(actual)\n",
    "    for i in range(length):\n",
    "        error += (predicted[i] - actual[i])**2\n",
    "    error = (error/length)**0.5\n",
    "    return error\n",
    "\n",
    "# code to evaluate an algorithm, using a train/test split\n",
    "def evaluate_algorithm(dataset, algorithm, metric):\n",
    "    train = dataset\n",
    "    test = [[item[0], None] for item in dataset]\n",
    "    predicted = algorithm(train,test)\n",
    "    actual = [instance[1] for instance in train]\n",
    "    result = metric(actual,predicted)\n",
    "    return result"
   ]
  },
  {
   "cell_type": "code",
   "execution_count": 4,
   "metadata": {},
   "outputs": [
    {
     "name": "stdout",
     "output_type": "stream",
     "text": [
      "(a) A plot of x,y of the Swedish auto data\n"
     ]
    },
    {
     "data": {
      "image/png": "[encoded data removed]",
      "text/plain": [
       "<Figure size 432x288 with 1 Axes>"
      ]
     },
     "metadata": {
      "needs_background": "light"
     },
     "output_type": "display_data"
    },
    {
     "name": "stdout",
     "output_type": "stream",
     "text": [
      "(b) Baseline performance using ZeroR: 86.63170447187734\n",
      "(c) Performance of simple linear regression: 35.365829968791466\n",
      "\n",
      "(d) A line plot of the predicted y values made by slr\n"
     ]
    },
    {
     "data": {
      "image/png": "[encoded data removed]",
      "text/plain": [
       "<Figure size 432x288 with 1 Axes>"
      ]
     },
     "metadata": {
      "needs_background": "light"
     },
     "output_type": "display_data"
    }
   ],
   "source": [
    "print(\"(a) A plot of x,y of the Swedish auto data\")\n",
    "xval = [pair[0] for pair in data]\n",
    "yval = [pair[1] for pair in data]\n",
    "plt.plot(xval, yval, '^')\n",
    "plt.ylabel('y')\n",
    "plt.xlabel('x')\n",
    "plt.show()\n",
    "\n",
    "# Testing simple linear regression\n",
    "print(\"(b) Baseline performance using ZeroR:\", evaluate_algorithm(data, zeroRR, rmse_eval))\n",
    "print(\"(c) Performance of simple linear regression:\", evaluate_algorithm(data, slr, rmse_eval))\n",
    "\n",
    "# Plot the results\n",
    "print(\"\\n(d) A line plot of the predicted y values made by slr\")\n",
    "\n",
    "plt.plot(xval, yval, '^')\n",
    "plt.plot(xval, slr(data, data), 'r')\n",
    "plt.ylabel('y')\n",
    "plt.xlabel('x')\n",
    "plt.show()"
   ]
  },
  {
   "cell_type": "markdown",
   "metadata": {},
   "source": [
    "#### Part 2 Discussion Here\n",
    "Simple linear regression clearly performs a lot better than the baseline model ZeroR which means that for the given dataset, slr predicts output y better. However, this result may not hold true if the dataset is modified in the future."
   ]
  },
  {
   "cell_type": "markdown",
   "metadata": {},
   "source": [
    "### Part 3: Normalization\n",
    "\n",
    "When working with data that has multiple inputs, we often want to normalize the data, so that it's all on the same scale (usually 0-1). The steps to do that are below. \n",
    "\n",
    "(a) Write a function minmax(dataset) that goes through your data set, and returns a list of lists. Each sublist should contain the min and the max of each column in your data. \n",
    "\n",
    "(b) Write a function called normalize(dataset, minmax). That code should go through each row in your data set (each instance), and normalize each value. The argument minmax should be the contents of a list as in part (f), above. The function to normalize a value, if you know the min and the max values of the column of data in which the value appears is:\n",
    "\n",
    "normalized value = value - minOfColumn / maxOfColumn - minOfColumn\n",
    "\n",
    "For testing, I give you the data set below, and in comments, the output of both the minmax function, and the resulting normalized data set so you can check your function\n",
    "\n",
    "(c) Run your code on the wine quality data set. You will need to:\n",
    "- Load it\n",
    "- Convert it to floats\n",
    "- Normalize it\n",
    "When complete, print the first line of data at each step - so I should see a line corresponding to when the data was loaded, a line after conversion to floats, and a line after normalization."
   ]
  },
  {
   "cell_type": "code",
   "execution_count": 5,
   "metadata": {},
   "outputs": [
    {
     "name": "stdout",
     "output_type": "stream",
     "text": [
      "Min max:  [[20, 400], [25, 90], [19, 100]]\n",
      "Dataset after normalization:  [[0.07894736842105263, 0.07692307692307693, 1.0], [0.0, 1.0, 0.09876543209876543], [0.21052631578947367, 0.3076923076923077, 0.5432098765432098], [1.0, 0.0, 0.0]] \n",
      "\n",
      "Wine quality dataset\n",
      " First line original: ['7', '0.27', '0.36', '20.7', '0.045', '45', '170', '1.001', '3', '0.45', '8.8', '6'] \n",
      "\n",
      " First line converted to float:  [7.0, 0.27, 0.36, 20.7, 0.045, 45.0, 170.0, 1.001, 3.0, 0.45, 8.8, 6.0] \n",
      "\n",
      " First line after normalization:  [0.30769230769230776, 0.18627450980392157, 0.21686746987951808, 0.308282208588957, 0.10682492581602374, 0.14982578397212543, 0.37354988399071926, 0.26778484673221237, 0.25454545454545446, 0.26744186046511625, 0.12903225806451626, 0.5] \n",
      "\n"
     ]
    }
   ],
   "source": [
    "# Write minmax and normalize here\n",
    "def minmax(dataset):\n",
    "    col_len = len(dataset[0])\n",
    "    min_max = []\n",
    "    for i in range(col_len):\n",
    "        col = [row[i] for row in dataset]\n",
    "        min_max.append([min(col), max(col)])\n",
    "    return min_max\n",
    "\n",
    "def normalize(dataset, minmax):\n",
    "    for row in dataset:\n",
    "        for i in range(len(row)):\n",
    "            row[i] = (row[i] - minmax[i][0])/(minmax[i][1] - minmax[i][0])\n",
    "    \n",
    "# Test on the following\n",
    "dataset = [[50, 30, 100], \n",
    "           [20, 90, 27], \n",
    "           [100, 45, 63], \n",
    "           [400, 25, 19]]\n",
    "min_max = minmax(dataset)\n",
    "print(\"Min max: \", min_max)\n",
    "normalize(dataset, min_max)\n",
    "print(\"Dataset after normalization: \", dataset, \"\\n\")\n",
    "\n",
    "# minmax should return: [[20, 400], [25, 90], [19, 100]]\n",
    "# normalized data should be:\n",
    "# [[0.07894736842105263, 0.07692307692307693, 1.0], [0.0, 1.0, 0.09876543209876543], [0.21052631578947367, 0.3076923076923077, 0.5432098765432098], [1.0, 0.0, 0.0]]\n",
    "\n",
    "\n",
    "# Then test on the wine quality dataset\n",
    "data_wine = load_data(\"winequality-white.csv\")\n",
    "print(\"Wine quality dataset\")\n",
    "print(\" First line original:\", data_wine[0], \"\\n\")\n",
    "\n",
    "for i in range(len(data_wine[0])):  \n",
    "    column2Float(data_wine,i)\n",
    "print(\" First line converted to float: \", data_wine[0], \"\\n\")\n",
    "\n",
    "normalize(data_wine, minmax(data_wine))\n",
    "print(\" First line after normalization: \", data_wine[0], \"\\n\")"
   ]
  }
 ],
 "metadata": {
  "kernelspec": {
   "display_name": "Python 3",
   "language": "python",
   "name": "python3"
  },
  "language_info": {
   "codemirror_mode": {
    "name": "ipython",
    "version": 3
   },
   "file_extension": ".py",
   "mimetype": "text/x-python",
   "name": "python",
   "nbconvert_exporter": "python",
   "pygments_lexer": "ipython3",
   "version": "3.7.1"
  }
 },
 "nbformat": 4,
 "nbformat_minor": 2
}
