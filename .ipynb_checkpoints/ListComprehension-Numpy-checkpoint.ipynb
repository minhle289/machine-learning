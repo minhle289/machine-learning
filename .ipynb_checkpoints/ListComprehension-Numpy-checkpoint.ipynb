{
 "cells": [
  {
   "cell_type": "markdown",
   "metadata": {},
   "source": [
    "# List comprehension and numpy\n",
    "\n",
    "## Name: Minh Le\n",
    "\n",
    "### Part 1: List comprehension, list indexing\n",
    "First, read the tutorial at: https://www.programiz.com/python-programming/list-comprehension\n",
    "\n",
    "Take the following list, below, and use list comprehension to complete the following. You must use list comprehension, and you mmust start with the original list (startList) each time. \n",
    "\n",
    "(a) Create a new list from every other element, starting at index 0\n",
    "\n",
    "(b) Create a new list that contains True for each element in the original list that is even, False if it is odd\n",
    "\n",
    "(c) Create a new list that replaces the values in the original list with 1, 2 or 3 under the following conditions. If the value is less than 3, make the new value 1, if it's greater than or equal to 3. but below 6, make it equal to 2, otherwise make it 3\n",
    "\n",
    "(d) Use slicing to make a shallow copy of the complete list. To test, change one element of your new list, and print both lists. Make sure ONLY your new list changes (because lists are pass-by-reference)\n",
    "\n",
    "(e) Go through the list of lists contained in the variable data, and extract all elements from each list EXCEPT the last one, and put into a new list of lists. You must use list comprehension.\n",
    "\n",
    "e.g. the output should be: [[1, 2], [4, 5], [7, 8], [10, 11]]\n",
    "\n",
    "(f) Go through the list of lists contained in the variable data, and create a single list containing ONLY the last element of each nested list. You must use list comprehension.\n",
    "\n",
    "e.g. the output should be: [3, 6, 9, 12]"
   ]
  },
  {
   "cell_type": "code",
   "execution_count": 17,
   "metadata": {},
   "outputs": [
    {
     "name": "stdout",
     "output_type": "stream",
     "text": [
      "Test a: True\n",
      "Test b: True\n",
      "Test c: True \n",
      "\n",
      "Test d:\n",
      "Initial copy: [2, 7, 1, 9, 1, 4, 8, 10, 2, 3, 5]\n",
      "Copy after change: [2, 7, 100, 9, 1, 4, 8, 10, 2, 3, 5]\n",
      "Original list doesn't change: [2, 7, 1, 9, 1, 4, 8, 10, 2, 3, 5] \n",
      "\n",
      "Test e: True\n",
      "Test f: True\n"
     ]
    }
   ],
   "source": [
    "# Use this list for a-d above\n",
    "\n",
    "startList = [2, 7, 1, 9, 1, 4, 8, 10, 2, 3, 5]\n",
    "\n",
    "#a\n",
    "elemList = list([x] for x in startList)\n",
    "\n",
    "#b\n",
    "oddEven = list(True if x % 2 == 0 else False for x in startList)\n",
    "\n",
    "#c\n",
    "replaceList = list(1 if x<3 else 2 if x>=3 and x < 6 else 3 for x in startList)\n",
    "\n",
    "#d\n",
    "shallowCopy = [x for x in startList]\n",
    "\n",
    "# Use this list for e-f above\n",
    "\n",
    "data = [[1,2,3],[4,5,6],[7,8,9],[10,11,12]]\n",
    "\n",
    "#e\n",
    "newList = [[row[i], row[i+1]] for row in data for i in range(1)]\n",
    "\n",
    "#f\n",
    "smallList = [nestedList[len(nestedList)-1] for nestedList in data]\n",
    "\n",
    "\n",
    "#Test\n",
    "print(\"Test a:\", elemList == [[2], [7], [1], [9], [1], [4], [8], [10], [2], [3], [5]])\n",
    "\n",
    "print(\"Test b:\", oddEven == [True, False, False, False, False, True, True, True, True, False, False])\n",
    "\n",
    "print(\"Test c:\", replaceList == [1, 3, 1, 3, 1, 2, 3, 3, 1, 2, 2], \"\\n\")\n",
    "\n",
    "print(\"Test d:\")\n",
    "print(\"Initial copy:\", shallowCopy)\n",
    "shallowCopy[2] = 100\n",
    "print(\"Copy after change:\", shallowCopy)\n",
    "print(\"Original list doesn't change:\", startList, \"\\n\")\n",
    "\n",
    "print(\"Test e:\", newList == [[1, 2], [4, 5], [7, 8], [10, 11]])\n",
    "\n",
    "#f\n",
    "print(\"Test f:\", smallList == [3, 6, 9, 12])"
   ]
  },
  {
   "cell_type": "markdown",
   "metadata": {},
   "source": [
    "### Part 2: Multiple return values\n",
    "\n",
    "Read the tutorial at: https://www.tutorialspoint.com/How-do-we-return-multiple-values-in-Python\n",
    "\n",
    "(a) Write a function called minmax, that takes a list as a single argument, and returns two values as a tuple - the minimum value in the list, and the maximum value in a list. \n",
    "\n",
    "(b) Use the random.randint(a,b) function to create a list filled with 100 random integers in the range 0 to 100 (inclusive).\n",
    "\n",
    "(c) Pass this list to your function from (a), capture the two return values into TWO distinct variables, and print them nicely! (i.e. Print two, distinct, meaningful output messages, not just the tuple returned)."
   ]
  },
  {
   "cell_type": "code",
   "execution_count": 1,
   "metadata": {
    "scrolled": true
   },
   "outputs": [
    {
     "name": "stdout",
     "output_type": "stream",
     "text": [
      "List with 100 random values between 0 and 100: [41, 82, 52, 6, 73, 59, 24, 92, 51, 83, 73, 53, 71, 52, 89, 31, 0, 60, 60, 17, 16, 58, 36, 25, 10, 78, 50, 28, 84, 61, 22, 100, 34, 1, 67, 12, 93, 40, 7, 17, 93, 50, 58, 78, 88, 99, 35, 1, 76, 91, 75, 21, 97, 36, 56, 89, 78, 21, 20, 41, 53, 28, 44, 25, 92, 12, 71, 52, 61, 66, 29, 90, 45, 56, 89, 80, 21, 58, 53, 96, 36, 4, 12, 48, 45, 9, 13, 85, 33, 68, 76, 18, 55, 15, 54, 21, 22, 25, 15, 74]\n",
      "Minimum value 0\n",
      "Maximum value 100\n"
     ]
    }
   ],
   "source": [
    "import random\n",
    "\n",
    "#a\n",
    "def minMax(inputList):\n",
    "    minVal = min(inputList)\n",
    "    maxVal = max(inputList)\n",
    "    return minVal, maxVal\n",
    "\n",
    "#b\n",
    "i = 0\n",
    "newList = []\n",
    "while i < 100:\n",
    "    newList.append(random.randint(0,100))\n",
    "    i = i + 1\n",
    "print(\"List with 100 random values between 0 and 100:\", newList)\n",
    "\n",
    "#c\n",
    "tupleVal = minMax(newList)\n",
    "print(\"Minimum value\", tupleVal[0])\n",
    "print(\"Maximum value\", tupleVal[1])"
   ]
  },
  {
   "cell_type": "markdown",
   "metadata": {},
   "source": [
    "### Part 3: Numpy\n",
    "\n",
    "Read the tutorial at: https://machinelearningmastery.com/index-slice-reshape-numpy-arrays-machine-learning-python/\n",
    "You may also want to check the following for information on array indexing in more detail: https://www.tutorialspoint.com/numpy/numpy_indexing_and_slicing.htm\n",
    "\n",
    "Then work on the following:\n",
    "\n",
    "(a) convert the startList to a one dimensional array. Print this array, and it's shape. Nicely.\n",
    "\n",
    "(b) convert the startList into a two dimensional array, of 4 rows of 3 columns. Print this array, and it's shape. Nicely.\n",
    "\n",
    "(c) use array slicing on (b) to produce similar output to 1(e) and 1(f) above. One variable containing 4 rows of 2 columns (all the data EXCEPT the last column from each row), and one variable that is a 4 by 1 array, containing the values from the last column. You will need to reshape this last variable (so a (4,) shape is not acceptable, but a (4,1) is). "
   ]
  },
  {
   "cell_type": "code",
   "execution_count": 54,
   "metadata": {},
   "outputs": [
    {
     "name": "stdout",
     "output_type": "stream",
     "text": [
      "One dimensional array: [12 26 18  1 15 18 12 19  2  7  4  9]\n",
      "One dimensional array's shape: (12,) \n",
      "\n",
      "Two dimensional array: \n",
      " [[12 26 18]\n",
      " [ 1 15 18]\n",
      " [12 19  2]\n",
      " [ 7  4  9]]\n",
      "Two dimensional array's shape: (4, 3) \n",
      "\n",
      "List excluding the last item of each nested list: \n",
      " [[12 26]\n",
      " [ 1 15]\n",
      " [12 19]\n",
      " [ 7  4]]\n",
      "List's shape: (4, 2) \n",
      "\n",
      "List with only the last item of each nested list: \n",
      " [[18]\n",
      " [18]\n",
      " [ 2]\n",
      " [ 9]]\n",
      "List's shape: (4, 1) \n",
      "\n"
     ]
    }
   ],
   "source": [
    "import numpy as np\n",
    "from numpy import array\n",
    "from numpy import reshape\n",
    "\n",
    "startList = [12,26,18,1,15,18,12,19,2,7,4,9]\n",
    "\n",
    "#a\n",
    "oneD = array(startList)\n",
    "print(\"One dimensional array:\", oneD)\n",
    "print(\"One dimensional array's shape:\", oneD.shape, \"\\n\")\n",
    "\n",
    "#b\n",
    "twoD = oneD.reshape((4, 3))\n",
    "print(\"Two dimensional array: \\n\", twoD)\n",
    "print(\"Two dimensional array's shape:\", twoD.shape, \"\\n\")\n",
    "\n",
    "#c\n",
    "newList = twoD[:,:-1]\n",
    "print(\"List excluding the last item of each nested list: \\n\", newList)\n",
    "print(\"List's shape:\", newList.shape, \"\\n\")\n",
    "\n",
    "\n",
    "lastItem = twoD[:, -1]\n",
    "lastItem = lastItem.reshape((lastItem.shape[0],1))\n",
    "print(\"List with only the last item of each nested list: \\n\", lastItem)\n",
    "print(\"List's shape:\", lastItem.shape, \"\\n\")"
   ]
  }
 ],
 "metadata": {
  "kernelspec": {
   "display_name": "Python 3",
   "language": "python",
   "name": "python3"
  },
  "language_info": {
   "codemirror_mode": {
    "name": "ipython",
    "version": 3
   },
   "file_extension": ".py",
   "mimetype": "text/x-python",
   "name": "python",
   "nbconvert_exporter": "python",
   "pygments_lexer": "ipython3",
   "version": "3.7.1"
  }
 },
 "nbformat": 4,
 "nbformat_minor": 2
}
